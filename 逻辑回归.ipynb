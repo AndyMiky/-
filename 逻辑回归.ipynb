{
 "cells": [
  {
   "cell_type": "code",
   "execution_count": 10,
   "metadata": {},
   "outputs": [],
   "source": [
    "#导入数据\n",
    "import h5py"
   ]
  },
  {
   "cell_type": "code",
   "execution_count": 11,
   "metadata": {},
   "outputs": [],
   "source": [
    "#训练原始数据\n",
    "train_data = h5py.File('C:/Users/lca/Desktop/datasets/train_catvnoncat.h5','r')\n",
    "#测试原始数据\n",
    "test_data = h5py.File('C:/Users/lca/Desktop/datasets/test_catvnoncat.h5','r')"
   ]
  },
  {
   "cell_type": "code",
   "execution_count": 12,
   "metadata": {},
   "outputs": [
    {
     "name": "stdout",
     "output_type": "stream",
     "text": [
      "list_classes\n",
      "train_set_x\n",
      "train_set_y\n"
     ]
    }
   ],
   "source": [
    "for key in train_data.keys():\n",
    "    print(key)"
   ]
  },
  {
   "cell_type": "code",
   "execution_count": 13,
   "metadata": {},
   "outputs": [
    {
     "data": {
      "text/plain": [
       "(209, 64, 64, 3)"
      ]
     },
     "execution_count": 13,
     "metadata": {},
     "output_type": "execute_result"
    }
   ],
   "source": [
    "train_data['train_set_x'].shape"
   ]
  },
  {
   "cell_type": "code",
   "execution_count": 14,
   "metadata": {},
   "outputs": [
    {
     "data": {
      "text/plain": [
       "(209,)"
      ]
     },
     "execution_count": 14,
     "metadata": {},
     "output_type": "execute_result"
    }
   ],
   "source": [
    "train_data['train_set_y'].shape"
   ]
  },
  {
   "cell_type": "code",
   "execution_count": 15,
   "metadata": {},
   "outputs": [
    {
     "name": "stdout",
     "output_type": "stream",
     "text": [
      "list_classes\n",
      "test_set_x\n",
      "test_set_y\n"
     ]
    }
   ],
   "source": [
    "for key in test_data.keys():\n",
    "    print(key)"
   ]
  },
  {
   "cell_type": "code",
   "execution_count": 16,
   "metadata": {},
   "outputs": [
    {
     "data": {
      "text/plain": [
       "(50, 64, 64, 3)"
      ]
     },
     "execution_count": 16,
     "metadata": {},
     "output_type": "execute_result"
    }
   ],
   "source": [
    "test_data['test_set_x'].shape"
   ]
  },
  {
   "cell_type": "code",
   "execution_count": 17,
   "metadata": {},
   "outputs": [
    {
     "data": {
      "text/plain": [
       "(50,)"
      ]
     },
     "execution_count": 17,
     "metadata": {},
     "output_type": "execute_result"
    }
   ],
   "source": [
    "test_data['test_set_y'].shape"
   ]
  },
  {
   "cell_type": "code",
   "execution_count": 18,
   "metadata": {},
   "outputs": [],
   "source": [
    "#取出数据集\n",
    "train_data_org = train_data['train_set_x'][:]\n",
    "train_labels_org = train_data['train_set_y'][:]\n",
    "test_data_org = test_data['test_set_x'][:]\n",
    "test_labels_org = test_data['test_set_y'][:]"
   ]
  },
  {
   "cell_type": "code",
   "execution_count": 19,
   "metadata": {},
   "outputs": [
    {
     "data": {
      "text/plain": [
       "<matplotlib.image.AxesImage at 0x16c843fee80>"
      ]
     },
     "execution_count": 19,
     "metadata": {},
     "output_type": "execute_result"
    },
    {
     "data": {
      "image/png": "[encoded data removed]",
      "text/plain": [
       "<Figure size 432x288 with 1 Axes>"
      ]
     },
     "metadata": {
      "needs_background": "light"
     },
     "output_type": "display_data"
    }
   ],
   "source": [
    "#查看图片\n",
    "import matplotlib.pyplot as plt\n",
    "%matplotlib inline\n",
    "#在线显示图片，不加的话，用plt.show()也是可以的，但麻烦，每次都要用\n",
    "plt.imshow(train_data_org[6])"
   ]
  },
  {
   "cell_type": "code",
   "execution_count": 20,
   "metadata": {},
   "outputs": [
    {
     "name": "stdout",
     "output_type": "stream",
     "text": [
      "209 50\n"
     ]
    }
   ],
   "source": [
    "#数据维度的处理\n",
    "m_train = train_data_org.shape[0]\n",
    "m_test = test_data_org.shape[0]\n",
    "print(m_train,m_test)"
   ]
  },
  {
   "cell_type": "code",
   "execution_count": 21,
   "metadata": {},
   "outputs": [
    {
     "name": "stdout",
     "output_type": "stream",
     "text": [
      "(12288, 209) (12288, 50)\n"
     ]
    }
   ],
   "source": [
    "train_data_tran = train_data_org.reshape(m_train,-1).T\n",
    "test_data_tran = test_data_org.reshape(m_test,-1).T\n",
    "print(train_data_tran.shape,test_data_tran.shape)"
   ]
  },
  {
   "cell_type": "code",
   "execution_count": 22,
   "metadata": {},
   "outputs": [
    {
     "name": "stdout",
     "output_type": "stream",
     "text": [
      "(1, 209)\n",
      "(1, 50)\n"
     ]
    }
   ],
   "source": [
    "import numpy as np\n",
    "train_labels_tran = train_labels_org[np.newaxis,:]\n",
    "#此处不知为何用转置还是不变，存疑\n",
    "print(train_labels_tran.shape)\n",
    "test_labels_tran = test_labels_org[np.newaxis,:]\n",
    "print(test_labels_tran.shape)\n",
    "#print(train_labels_tran)"
   ]
  },
  {
   "cell_type": "code",
   "execution_count": 23,
   "metadata": {},
   "outputs": [
    {
     "name": "stdout",
     "output_type": "stream",
     "text": [
      "[[158 115 255 ...  41  18 133]\n",
      " [104 110 253 ...  47  18 163]\n",
      " [ 83 111 254 ...  84  16  75]\n",
      " ...\n",
      " [173 171 133 ... 183 144   5]\n",
      " [128 176 101 ... 141 137  22]\n",
      " [110 186 121 ... 116 108   5]]\n"
     ]
    }
   ],
   "source": [
    "#标准化数据到0~1区间内\n",
    "#因为数据值相差过大在做梯度下降算法时会影响算法的性能\n",
    "print(test_data_tran)"
   ]
  },
  {
   "cell_type": "code",
   "execution_count": 24,
   "metadata": {},
   "outputs": [
    {
     "name": "stdout",
     "output_type": "stream",
     "text": [
      "[[0.06666667 0.76862745 0.32156863 ... 0.56078431 0.08627451 0.03137255]\n",
      " [0.12156863 0.75294118 0.27843137 ... 0.60784314 0.09411765 0.10980392]\n",
      " [0.21960784 0.74509804 0.26666667 ... 0.64705882 0.09019608 0.20784314]\n",
      " ...\n",
      " [0.         0.32156863 0.54117647 ... 0.33333333 0.01568627 0.        ]\n",
      " [0.         0.31372549 0.55294118 ... 0.41960784 0.01960784 0.        ]\n",
      " [0.         0.31764706 0.55686275 ... 0.58431373 0.         0.        ]]\n"
     ]
    }
   ],
   "source": [
    "train_data_sta = train_data_tran/255\n",
    "test_data_sta = test_data_tran/255\n",
    "print(train_data_sta)"
   ]
  },
  {
   "cell_type": "code",
   "execution_count": 25,
   "metadata": {},
   "outputs": [],
   "source": [
    "#定义sigmoid函数\n",
    "def sigmoid(z):\n",
    "    a = 1/(1+np.exp(-z))\n",
    "    return a"
   ]
  },
  {
   "cell_type": "code",
   "execution_count": 26,
   "metadata": {},
   "outputs": [
    {
     "name": "stdout",
     "output_type": "stream",
     "text": [
      "12288\n"
     ]
    }
   ],
   "source": [
    "#初始化参数\n",
    "n_dim = train_data_sta.shape[0]\n",
    "print(n_dim)"
   ]
  },
  {
   "cell_type": "code",
   "execution_count": 27,
   "metadata": {},
   "outputs": [],
   "source": [
    "W = np.zeros((n_dim,1))\n",
    "b = 0"
   ]
  },
  {
   "cell_type": "code",
   "execution_count": 28,
   "metadata": {},
   "outputs": [],
   "source": [
    "#定义前向传播函数，代价函数，梯度下降函数\n",
    "def propagate(W,b,X,Y):\n",
    "    #1.前向传播函数\n",
    "    Z = np.dot(W.T,X) + b\n",
    "    A = sigmoid(Z)\n",
    "    #2.代价函数\n",
    "    m = X.shape[1]\n",
    "    #J是点乘，加dot才是矩阵相乘\n",
    "    J = -1/m *np.sum(Y*np.log(A) +(1-Y)*np.log(1-A))\n",
    "    #3.梯度下降\n",
    "    dW = 1/m*np.dot(X,(A-Y).T)\n",
    "    db = 1/m*np.sum(A-Y)\n",
    "    \n",
    "    grands = {'dW':dW,'db':db}\n",
    "    return grands,J"
   ]
  },
  {
   "cell_type": "code",
   "execution_count": 29,
   "metadata": {},
   "outputs": [],
   "source": [
    "#优化部分\n",
    "def optimise(W,b,X,Y,alpha,n_iters):\n",
    "    costs = []\n",
    "    for i in range(n_iters):\n",
    "        grands,J = propagate(W,b,X,Y)\n",
    "        dW = grands['dW']\n",
    "        db = grands['db']\n",
    "        \n",
    "        W = W-alpha*dW\n",
    "        b = b-alpha*db\n",
    "        \n",
    "        if i%100 == 0:\n",
    "            costs.append(J)\n",
    "            print('n_iters is',i,'cost is',J)\n",
    "            \n",
    "    grands = {'dW':dW,'db':db}\n",
    "    params = {'W':W,'b':b}\n",
    "    \n",
    "    return grands,params,costs\n",
    "            "
   ]
  },
  {
   "cell_type": "code",
   "execution_count": 30,
   "metadata": {},
   "outputs": [],
   "source": [
    "#预测部分\n",
    "def predict(W,b,X_test):\n",
    "    Z = np.dot(W.T,X_test) + b\n",
    "    A = sigmoid(Z)\n",
    "    \n",
    "    m = X_test.shape[1]\n",
    "    y_pred = np.zeros((1,m))\n",
    "    \n",
    "    for i in range(m):\n",
    "        if A[:,i] >0.5:\n",
    "            y_pred[:,i]=1\n",
    "        else:\n",
    "            y_pred[:,i]=0\n",
    "    return y_pred"
   ]
  },
  {
   "cell_type": "code",
   "execution_count": 31,
   "metadata": {},
   "outputs": [],
   "source": [
    "#模型整合\n",
    "def model(W,b,X_train,Y_train,X_test,Y_test,alpha,n_iters):\n",
    "    grands,params,costs = optimise(W,b,X_train,Y_train,alpha,n_iters)\n",
    "    W = params['W']\n",
    "    b = params['b']\n",
    "    y_pred_train = predict(W,b,X_train)\n",
    "    y_pred_test = predict(W,b,X_test)\n",
    "    \n",
    "    print('the train acc is',np.mean(y_pred_train== Y_train))\n",
    "    print('the test acc is',np.mean(y_pred_test== Y_test))\n",
    "    \n",
    "    b = {\n",
    "        'W':W,\n",
    "        'b':b,\n",
    "        'costs':costs,\n",
    "        'y_pred_train':y_pred_train,\n",
    "        'y_pred_test':y_pred_test,\n",
    "        'alpha':alpha\n",
    "    }\n",
    "    return b"
   ]
  },
  {
   "cell_type": "code",
   "execution_count": 32,
   "metadata": {},
   "outputs": [
    {
     "name": "stdout",
     "output_type": "stream",
     "text": [
      "n_iters is 0 cost is 0.6931471805599453\n",
      "n_iters is 100 cost is 0.5845083636993086\n",
      "n_iters is 200 cost is 0.4669490409465546\n",
      "n_iters is 300 cost is 0.37600686694802077\n",
      "n_iters is 400 cost is 0.3314632893282512\n",
      "n_iters is 500 cost is 0.3032730674743829\n",
      "n_iters is 600 cost is 0.2798795865826048\n",
      "n_iters is 700 cost is 0.2600421369258757\n",
      "n_iters is 800 cost is 0.24294068467796612\n",
      "n_iters is 900 cost is 0.22800422256726066\n",
      "n_iters is 1000 cost is 0.21481951378449646\n",
      "n_iters is 1100 cost is 0.20307819060644994\n",
      "n_iters is 1200 cost is 0.1925442771670686\n",
      "n_iters is 1300 cost is 0.18303333796883509\n",
      "n_iters is 1400 cost is 0.17439859438448874\n",
      "n_iters is 1500 cost is 0.16652139705400335\n",
      "n_iters is 1600 cost is 0.1593045182975662\n",
      "n_iters is 1700 cost is 0.1526673247129651\n",
      "n_iters is 1800 cost is 0.14654223503982336\n",
      "n_iters is 1900 cost is 0.14087207570310165\n",
      "the train acc is 0.9904306220095693\n",
      "the test acc is 0.7\n"
     ]
    }
   ],
   "source": [
    "b = model(W,b,train_data_sta,train_labels_tran,test_data_sta ,test_labels_tran,alpha=0.005,n_iters=2000)"
   ]
  },
  {
   "cell_type": "code",
   "execution_count": 33,
   "metadata": {},
   "outputs": [
    {
     "data": {
      "text/plain": [
       "Text(0, 0.5, 'cost')"
      ]
     },
     "execution_count": 33,
     "metadata": {},
     "output_type": "execute_result"
    },
    {
     "data": {
      "image/png": "[encoded data removed]",
      "text/plain": [
       "<Figure size 432x288 with 1 Axes>"
      ]
     },
     "metadata": {
      "needs_background": "light"
     },
     "output_type": "display_data"
    }
   ],
   "source": [
    "plt.plot(b['costs'])\n",
    "plt.xlabel('per hundred iters')\n",
    "plt.ylabel('cost')"
   ]
  },
  {
   "cell_type": "code",
   "execution_count": 38,
   "metadata": {},
   "outputs": [
    {
     "name": "stdout",
     "output_type": "stream",
     "text": [
      "y is 0\n",
      "y_prediction is 1.0\n"
     ]
    }
   ],
   "source": [
    "index = 34\n",
    "print('y is',test_labels_tran[0,index])\n",
    "print('y_prediction is',b['y_pred_test'][0,index])"
   ]
  },
  {
   "cell_type": "code",
   "execution_count": 39,
   "metadata": {},
   "outputs": [
    {
     "data": {
      "text/plain": [
       "<matplotlib.image.AxesImage at 0x16c85e4ac18>"
      ]
     },
     "execution_count": 39,
     "metadata": {},
     "output_type": "execute_result"
    },
    {
     "data": {
      "image/png": "[encoded data removed]",
      "text/plain": [
       "<Figure size 432x288 with 1 Axes>"
      ]
     },
     "metadata": {
      "needs_background": "light"
     },
     "output_type": "display_data"
    }
   ],
   "source": [
    "plt.imshow(test_data_org[index])"
   ]
  },
  {
   "cell_type": "code",
   "execution_count": null,
   "metadata": {},
   "outputs": [],
   "source": []
  }
 ],
 "metadata": {
  "kernelspec": {
   "display_name": "Python 3",
   "language": "python",
   "name": "python3"
  },
  "language_info": {
   "codemirror_mode": {
    "name": "ipython",
    "version": 3
   },
   "file_extension": ".py",
   "mimetype": "text/x-python",
   "name": "python",
   "nbconvert_exporter": "python",
   "pygments_lexer": "ipython3",
   "version": "3.7.3"
  }
 },
 "nbformat": 4,
 "nbformat_minor": 2
}
